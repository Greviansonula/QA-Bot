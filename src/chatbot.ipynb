{
 "cells": [
  {
   "cell_type": "code",
   "execution_count": 1,
   "metadata": {},
   "outputs": [
    {
     "data": {
      "text/plain": [
       "True"
      ]
     },
     "execution_count": 1,
     "metadata": {},
     "output_type": "execute_result"
    }
   ],
   "source": [
    "import os\n",
    "import openai\n",
    "from dotenv import load_dotenv\n",
    "\n",
    "# Load environment variables from .env file\n",
    "load_dotenv()"
   ]
  },
  {
   "cell_type": "code",
   "execution_count": 8,
   "metadata": {},
   "outputs": [
    {
     "name": "stdout",
     "output_type": "stream",
     "text": [
      "What services does Dataswira Inc. offer?\n",
      "Dataswira Inc. offers business intelligence (BI), data analytics, and software services. Q: Where is Dataswira Inc. headquartered?\n",
      "A: Dataswira Inc. is based in Western Kenya. Q: Which industries does Dataswira Inc. work in?\n",
      "A: Dataswira Inc. works in the software development industry. Q: How many employees does Dataswira Inc. have?\n",
      "A: Dataswira Inc. has 50-100 employees. Q: Who are Dataswira Inc.'s key people?\n",
      "A: Dataswira Inc.'s key people are John Doe as the CEO, Jane Doe as the COO, and Michael Smith as the CTO. Q: How can I contact Dataswira Inc.?\n",
      "A: Dataswira Inc.'s contact information is available on their website at www.dataswira.com . Q: How can I stay updated on Dataswira Inc. news?\n",
      "A: Dataswira Inc. news is available on their website at www.dataswira.com .\n",
      "To get started with Wolfram|Alpha Pro, sign up for a free trial .\n",
      "Wolfram|Alpha Pro is a subscription service that gives you access to the complete Wolfram|Alpha knowledge base and powerful tools for calculation, visualization, communication, and analysis.\n",
      "Wolfram|Alpha Pro is ideal for professionals who need to use the power of Wolfram|Alpha on a regular basis, and for students and educators who want to use Wolfram|Alpha as a learning tool.\n",
      "For more information, visit the Wolfram|Alpha Pro website .\n",
      "The blog will be used to share interesting news, tutorials and other things that I come across and find useful.\n",
      "If you want to stay up to date with the latest posts, you can follow the blog using the form below.\n",
      "You can also subscribe to the blog using your favorite RSS reader.\n",
      "Last updated: 2017-05-31 08:46:54\n",
      "Disclaimer: The views expressed here are mine alone and do not reflect the views of my employer.\n",
      "\n",
      "When was Dataswira Inc. founded?\n",
      "The company was founded in 2015. Q: What is the industry that Dataswira Inc. is operating in?\n",
      "A: The company is operating in the software industry. Q: What services does Dataswira Inc. provide?\n",
      "A: The company provides business intelligence (BI), data analytics, and software services. Q: How many people are working at Dataswira Inc.?\n",
      "A: There are 50-100 employees working at the company. Q: What is the location of Dataswira Inc. headquarters?\n",
      "A: The company headquarters is located in Western Kenya. Q: What is the name of the CEO of Dataswira Inc.?\n",
      "A: The CEO of Dataswira Inc. is John Doe . Q: What is the name of the COO of Dataswira Inc.?\n",
      "A: The COO of Dataswira Inc. is Jane Doe . Q: What is the name of the CTO of Dataswira Inc.?\n",
      "A: The CTO of Dataswira Inc. is Michael Smith . Q: What is the company address?\n",
      "A: The company address is Western Kenya. Q: How can I contact Dataswira Inc. via email?\n",
      "A: The company can be contacted via email at john@dataswira.com or jane@dataswira.com . Q: What is the phone number of Dataswira Inc.?\n",
      "A: The phone number of Dataswira Inc. is +254-722-000-000 . Q: What is the website of Dataswira Inc.?\n",
      "A: The website of Dataswira Inc. is www.dataswira.com . Q: What is the location of the company headquarters?\n",
      "A: The company headquarters is located in Western Kenya.\n",
      "Dataswira Inc. has a team of 50-100 employees and is committed to delivering quality software solutions to its clients. Visit their website at www.dataswira.com or follow them on Twitter and LinkedIn for updates and news.\n",
      "Dataswira Inc. is a software development company based in Western Kenya. The company provides business intelligence (BI), data analytics, and software services to clients in various industries. Dataswira Inc. was founded in 2015 by a team of experienced professionals in the software industry. The company's key people include John Doe as the CEO, Jane Doe as the COO, and Michael Smith as the CTO. Dataswira Inc. has a team of 50-100 employees and is committed to delivering quality software solutions to its clients. Visit their website at www.dataswira.com or follow them on Twitter and LinkedIn for updates and news.\n",
      "A: Dataswira Inc. is a software development company based in Western Kenya. The company provides business intelligence (BI), data analytics, and software services to clients in various industries. Dataswira Inc. was founded in 2015 by a team of experienced professionals in the software industry. The company's key people include John Doe as the CEO, Jane Doe as the COO, and Michael Smith as the CTO. Dataswira Inc. has a team of 50-100 employees and is committed to delivering quality software solutions to its clients. Visit their website at www.dataswira.com or follow them on Twitter and LinkedIn for updates and news.\n",
      "A: The company was founded in 2015.\n",
      "A: The company is operating in the software industry.\n",
      "A: The company provides business intelligence (BI), data analytics, and software services.\n",
      "A: There are 50-100 employees working at the company.\n",
      "A: The company headquarters is located in Western Kenya.\n",
      "A: The CEO of Dataswira Inc. is John Doe .\n",
      "A: The COO of Dataswira Inc. is Jane Doe .\n",
      "A: The CTO of Dataswira Inc. is Michael Smith .\n",
      "A: The company address is Western Kenya.\n",
      "A: The company can be contacted via email at john@dataswira.com or jane@dataswira.com .\n",
      "A: The phone number of Dataswira Inc. is +254-722-000-000 .\n",
      "A: The website of Dataswira Inc. is www.dataswira.com .\n",
      "A: The location of the company headquarters is Western Kenya.\n",
      "Dataswira Inc. is a software development company based in Western Kenya. The company provides business intelligence (BI), data analytics, and software services to clients in various industries. Dataswira Inc. was founded in 2015 by a team of experienced professionals in the software industry. The company's key people include John Doe as the CEO, Jane Doe as the COO, and Michael Smith as the CTO. Dataswira Inc. has a team of 50-100 employees and is committed to delivering quality\n",
      "\n"
     ]
    },
    {
     "ename": "KeyboardInterrupt",
     "evalue": "",
     "output_type": "error",
     "traceback": [
      "\u001b[0;31m---------------------------------------------------------------------------\u001b[0m",
      "\u001b[0;31mKeyboardInterrupt\u001b[0m                         Traceback (most recent call last)",
      "Cell \u001b[0;32mIn[8], line 33\u001b[0m\n\u001b[1;32m     29\u001b[0m questions \u001b[39m=\u001b[39m [\u001b[39m\"\u001b[39m\u001b[39mWhat services does Dataswira Inc. offer?\u001b[39m\u001b[39m\"\u001b[39m, \n\u001b[1;32m     30\u001b[0m              \u001b[39m\"\u001b[39m\u001b[39mWhen was Dataswira Inc. founded?\u001b[39m\u001b[39m\"\u001b[39m, \n\u001b[1;32m     31\u001b[0m              \u001b[39m\"\u001b[39m\u001b[39mWho are the key people at Dataswira Inc.?\u001b[39m\u001b[39m\"\u001b[39m]\n\u001b[1;32m     32\u001b[0m \u001b[39mfor\u001b[39;00m question \u001b[39min\u001b[39;00m questions:\n\u001b[0;32m---> 33\u001b[0m     answer \u001b[39m=\u001b[39m ask_question(question)\n\u001b[1;32m     34\u001b[0m     \u001b[39mprint\u001b[39m(\u001b[39mf\u001b[39m\u001b[39m\"\u001b[39m\u001b[39m{\u001b[39;00mquestion\u001b[39m}\u001b[39;00m\u001b[39m\\n\u001b[39;00m\u001b[39m{\u001b[39;00manswer\u001b[39m}\u001b[39;00m\u001b[39m\\n\u001b[39;00m\u001b[39m\"\u001b[39m)\n",
      "Cell \u001b[0;32mIn[8], line 17\u001b[0m, in \u001b[0;36mask_question\u001b[0;34m(question)\u001b[0m\n\u001b[1;32m     15\u001b[0m \u001b[39mdef\u001b[39;00m \u001b[39mask_question\u001b[39m(question):\n\u001b[1;32m     16\u001b[0m     prompt \u001b[39m=\u001b[39m \u001b[39mf\u001b[39m\u001b[39m\"\u001b[39m\u001b[39mC: \u001b[39m\u001b[39m{\u001b[39;00mcontext\u001b[39m}\u001b[39;00m\u001b[39m Q: \u001b[39m\u001b[39m{\u001b[39;00mquestion\u001b[39m}\u001b[39;00m\u001b[39m\\n\u001b[39;00m\u001b[39mA:\u001b[39m\u001b[39m\"\u001b[39m\n\u001b[0;32m---> 17\u001b[0m     response \u001b[39m=\u001b[39m openai\u001b[39m.\u001b[39;49mCompletion\u001b[39m.\u001b[39;49mcreate(\n\u001b[1;32m     18\u001b[0m         engine\u001b[39m=\u001b[39;49m\u001b[39m\"\u001b[39;49m\u001b[39mdavinci\u001b[39;49m\u001b[39m\"\u001b[39;49m,\n\u001b[1;32m     19\u001b[0m         prompt\u001b[39m=\u001b[39;49mprompt,\n\u001b[1;32m     20\u001b[0m         temperature\u001b[39m=\u001b[39;49m\u001b[39m0.5\u001b[39;49m,\n\u001b[1;32m     21\u001b[0m         max_tokens\u001b[39m=\u001b[39;49m\u001b[39m1024\u001b[39;49m,\n\u001b[1;32m     22\u001b[0m         n\u001b[39m=\u001b[39;49m\u001b[39m1\u001b[39;49m,\n\u001b[1;32m     23\u001b[0m         stop\u001b[39m=\u001b[39;49m\u001b[39mNone\u001b[39;49;00m\n\u001b[1;32m     24\u001b[0m     )\n\u001b[1;32m     25\u001b[0m     answer \u001b[39m=\u001b[39m response\u001b[39m.\u001b[39mchoices[\u001b[39m0\u001b[39m]\u001b[39m.\u001b[39mtext\u001b[39m.\u001b[39mstrip()\n\u001b[1;32m     26\u001b[0m     \u001b[39mreturn\u001b[39;00m answer\n",
      "File \u001b[0;32m/workspace/QA-Bot/env/lib/python3.8/site-packages/openai/api_resources/completion.py:25\u001b[0m, in \u001b[0;36mCompletion.create\u001b[0;34m(cls, *args, **kwargs)\u001b[0m\n\u001b[1;32m     23\u001b[0m \u001b[39mwhile\u001b[39;00m \u001b[39mTrue\u001b[39;00m:\n\u001b[1;32m     24\u001b[0m     \u001b[39mtry\u001b[39;00m:\n\u001b[0;32m---> 25\u001b[0m         \u001b[39mreturn\u001b[39;00m \u001b[39msuper\u001b[39;49m()\u001b[39m.\u001b[39;49mcreate(\u001b[39m*\u001b[39;49margs, \u001b[39m*\u001b[39;49m\u001b[39m*\u001b[39;49mkwargs)\n\u001b[1;32m     26\u001b[0m     \u001b[39mexcept\u001b[39;00m TryAgain \u001b[39mas\u001b[39;00m e:\n\u001b[1;32m     27\u001b[0m         \u001b[39mif\u001b[39;00m timeout \u001b[39mis\u001b[39;00m \u001b[39mnot\u001b[39;00m \u001b[39mNone\u001b[39;00m \u001b[39mand\u001b[39;00m time\u001b[39m.\u001b[39mtime() \u001b[39m>\u001b[39m start \u001b[39m+\u001b[39m timeout:\n",
      "File \u001b[0;32m/workspace/QA-Bot/env/lib/python3.8/site-packages/openai/api_resources/abstract/engine_api_resource.py:153\u001b[0m, in \u001b[0;36mEngineAPIResource.create\u001b[0;34m(cls, api_key, api_base, api_type, request_id, api_version, organization, **params)\u001b[0m\n\u001b[1;32m    127\u001b[0m \u001b[39m@classmethod\u001b[39m\n\u001b[1;32m    128\u001b[0m \u001b[39mdef\u001b[39;00m \u001b[39mcreate\u001b[39m(\n\u001b[1;32m    129\u001b[0m     \u001b[39mcls\u001b[39m,\n\u001b[0;32m   (...)\u001b[0m\n\u001b[1;32m    136\u001b[0m     \u001b[39m*\u001b[39m\u001b[39m*\u001b[39mparams,\n\u001b[1;32m    137\u001b[0m ):\n\u001b[1;32m    138\u001b[0m     (\n\u001b[1;32m    139\u001b[0m         deployment_id,\n\u001b[1;32m    140\u001b[0m         engine,\n\u001b[0;32m   (...)\u001b[0m\n\u001b[1;32m    150\u001b[0m         api_key, api_base, api_type, api_version, organization, \u001b[39m*\u001b[39m\u001b[39m*\u001b[39mparams\n\u001b[1;32m    151\u001b[0m     )\n\u001b[0;32m--> 153\u001b[0m     response, _, api_key \u001b[39m=\u001b[39m requestor\u001b[39m.\u001b[39;49mrequest(\n\u001b[1;32m    154\u001b[0m         \u001b[39m\"\u001b[39;49m\u001b[39mpost\u001b[39;49m\u001b[39m\"\u001b[39;49m,\n\u001b[1;32m    155\u001b[0m         url,\n\u001b[1;32m    156\u001b[0m         params\u001b[39m=\u001b[39;49mparams,\n\u001b[1;32m    157\u001b[0m         headers\u001b[39m=\u001b[39;49mheaders,\n\u001b[1;32m    158\u001b[0m         stream\u001b[39m=\u001b[39;49mstream,\n\u001b[1;32m    159\u001b[0m         request_id\u001b[39m=\u001b[39;49mrequest_id,\n\u001b[1;32m    160\u001b[0m         request_timeout\u001b[39m=\u001b[39;49mrequest_timeout,\n\u001b[1;32m    161\u001b[0m     )\n\u001b[1;32m    163\u001b[0m     \u001b[39mif\u001b[39;00m stream:\n\u001b[1;32m    164\u001b[0m         \u001b[39m# must be an iterator\u001b[39;00m\n\u001b[1;32m    165\u001b[0m         \u001b[39massert\u001b[39;00m \u001b[39mnot\u001b[39;00m \u001b[39misinstance\u001b[39m(response, OpenAIResponse)\n",
      "File \u001b[0;32m/workspace/QA-Bot/env/lib/python3.8/site-packages/openai/api_requestor.py:216\u001b[0m, in \u001b[0;36mAPIRequestor.request\u001b[0;34m(self, method, url, params, headers, files, stream, request_id, request_timeout)\u001b[0m\n\u001b[1;32m    205\u001b[0m \u001b[39mdef\u001b[39;00m \u001b[39mrequest\u001b[39m(\n\u001b[1;32m    206\u001b[0m     \u001b[39mself\u001b[39m,\n\u001b[1;32m    207\u001b[0m     method,\n\u001b[0;32m   (...)\u001b[0m\n\u001b[1;32m    214\u001b[0m     request_timeout: Optional[Union[\u001b[39mfloat\u001b[39m, Tuple[\u001b[39mfloat\u001b[39m, \u001b[39mfloat\u001b[39m]]] \u001b[39m=\u001b[39m \u001b[39mNone\u001b[39;00m,\n\u001b[1;32m    215\u001b[0m ) \u001b[39m-\u001b[39m\u001b[39m>\u001b[39m Tuple[Union[OpenAIResponse, Iterator[OpenAIResponse]], \u001b[39mbool\u001b[39m, \u001b[39mstr\u001b[39m]:\n\u001b[0;32m--> 216\u001b[0m     result \u001b[39m=\u001b[39m \u001b[39mself\u001b[39;49m\u001b[39m.\u001b[39;49mrequest_raw(\n\u001b[1;32m    217\u001b[0m         method\u001b[39m.\u001b[39;49mlower(),\n\u001b[1;32m    218\u001b[0m         url,\n\u001b[1;32m    219\u001b[0m         params\u001b[39m=\u001b[39;49mparams,\n\u001b[1;32m    220\u001b[0m         supplied_headers\u001b[39m=\u001b[39;49mheaders,\n\u001b[1;32m    221\u001b[0m         files\u001b[39m=\u001b[39;49mfiles,\n\u001b[1;32m    222\u001b[0m         stream\u001b[39m=\u001b[39;49mstream,\n\u001b[1;32m    223\u001b[0m         request_id\u001b[39m=\u001b[39;49mrequest_id,\n\u001b[1;32m    224\u001b[0m         request_timeout\u001b[39m=\u001b[39;49mrequest_timeout,\n\u001b[1;32m    225\u001b[0m     )\n\u001b[1;32m    226\u001b[0m     resp, got_stream \u001b[39m=\u001b[39m \u001b[39mself\u001b[39m\u001b[39m.\u001b[39m_interpret_response(result, stream)\n\u001b[1;32m    227\u001b[0m     \u001b[39mreturn\u001b[39;00m resp, got_stream, \u001b[39mself\u001b[39m\u001b[39m.\u001b[39mapi_key\n",
      "File \u001b[0;32m/workspace/QA-Bot/env/lib/python3.8/site-packages/openai/api_requestor.py:516\u001b[0m, in \u001b[0;36mAPIRequestor.request_raw\u001b[0;34m(self, method, url, params, supplied_headers, files, stream, request_id, request_timeout)\u001b[0m\n\u001b[1;32m    514\u001b[0m     _thread_context\u001b[39m.\u001b[39msession \u001b[39m=\u001b[39m _make_session()\n\u001b[1;32m    515\u001b[0m \u001b[39mtry\u001b[39;00m:\n\u001b[0;32m--> 516\u001b[0m     result \u001b[39m=\u001b[39m _thread_context\u001b[39m.\u001b[39;49msession\u001b[39m.\u001b[39;49mrequest(\n\u001b[1;32m    517\u001b[0m         method,\n\u001b[1;32m    518\u001b[0m         abs_url,\n\u001b[1;32m    519\u001b[0m         headers\u001b[39m=\u001b[39;49mheaders,\n\u001b[1;32m    520\u001b[0m         data\u001b[39m=\u001b[39;49mdata,\n\u001b[1;32m    521\u001b[0m         files\u001b[39m=\u001b[39;49mfiles,\n\u001b[1;32m    522\u001b[0m         stream\u001b[39m=\u001b[39;49mstream,\n\u001b[1;32m    523\u001b[0m         timeout\u001b[39m=\u001b[39;49mrequest_timeout \u001b[39mif\u001b[39;49;00m request_timeout \u001b[39melse\u001b[39;49;00m TIMEOUT_SECS,\n\u001b[1;32m    524\u001b[0m     )\n\u001b[1;32m    525\u001b[0m \u001b[39mexcept\u001b[39;00m requests\u001b[39m.\u001b[39mexceptions\u001b[39m.\u001b[39mTimeout \u001b[39mas\u001b[39;00m e:\n\u001b[1;32m    526\u001b[0m     \u001b[39mraise\u001b[39;00m error\u001b[39m.\u001b[39mTimeout(\u001b[39m\"\u001b[39m\u001b[39mRequest timed out: \u001b[39m\u001b[39m{}\u001b[39;00m\u001b[39m\"\u001b[39m\u001b[39m.\u001b[39mformat(e)) \u001b[39mfrom\u001b[39;00m \u001b[39me\u001b[39;00m\n",
      "File \u001b[0;32m/workspace/QA-Bot/env/lib/python3.8/site-packages/requests/sessions.py:587\u001b[0m, in \u001b[0;36mSession.request\u001b[0;34m(self, method, url, params, data, headers, cookies, files, auth, timeout, allow_redirects, proxies, hooks, stream, verify, cert, json)\u001b[0m\n\u001b[1;32m    582\u001b[0m send_kwargs \u001b[39m=\u001b[39m {\n\u001b[1;32m    583\u001b[0m     \u001b[39m\"\u001b[39m\u001b[39mtimeout\u001b[39m\u001b[39m\"\u001b[39m: timeout,\n\u001b[1;32m    584\u001b[0m     \u001b[39m\"\u001b[39m\u001b[39mallow_redirects\u001b[39m\u001b[39m\"\u001b[39m: allow_redirects,\n\u001b[1;32m    585\u001b[0m }\n\u001b[1;32m    586\u001b[0m send_kwargs\u001b[39m.\u001b[39mupdate(settings)\n\u001b[0;32m--> 587\u001b[0m resp \u001b[39m=\u001b[39m \u001b[39mself\u001b[39;49m\u001b[39m.\u001b[39;49msend(prep, \u001b[39m*\u001b[39;49m\u001b[39m*\u001b[39;49msend_kwargs)\n\u001b[1;32m    589\u001b[0m \u001b[39mreturn\u001b[39;00m resp\n",
      "File \u001b[0;32m/workspace/QA-Bot/env/lib/python3.8/site-packages/requests/sessions.py:701\u001b[0m, in \u001b[0;36mSession.send\u001b[0;34m(self, request, **kwargs)\u001b[0m\n\u001b[1;32m    698\u001b[0m start \u001b[39m=\u001b[39m preferred_clock()\n\u001b[1;32m    700\u001b[0m \u001b[39m# Send the request\u001b[39;00m\n\u001b[0;32m--> 701\u001b[0m r \u001b[39m=\u001b[39m adapter\u001b[39m.\u001b[39;49msend(request, \u001b[39m*\u001b[39;49m\u001b[39m*\u001b[39;49mkwargs)\n\u001b[1;32m    703\u001b[0m \u001b[39m# Total elapsed time of the request (approximately)\u001b[39;00m\n\u001b[1;32m    704\u001b[0m elapsed \u001b[39m=\u001b[39m preferred_clock() \u001b[39m-\u001b[39m start\n",
      "File \u001b[0;32m/workspace/QA-Bot/env/lib/python3.8/site-packages/requests/adapters.py:489\u001b[0m, in \u001b[0;36mHTTPAdapter.send\u001b[0;34m(self, request, stream, timeout, verify, cert, proxies)\u001b[0m\n\u001b[1;32m    487\u001b[0m \u001b[39mtry\u001b[39;00m:\n\u001b[1;32m    488\u001b[0m     \u001b[39mif\u001b[39;00m \u001b[39mnot\u001b[39;00m chunked:\n\u001b[0;32m--> 489\u001b[0m         resp \u001b[39m=\u001b[39m conn\u001b[39m.\u001b[39;49murlopen(\n\u001b[1;32m    490\u001b[0m             method\u001b[39m=\u001b[39;49mrequest\u001b[39m.\u001b[39;49mmethod,\n\u001b[1;32m    491\u001b[0m             url\u001b[39m=\u001b[39;49murl,\n\u001b[1;32m    492\u001b[0m             body\u001b[39m=\u001b[39;49mrequest\u001b[39m.\u001b[39;49mbody,\n\u001b[1;32m    493\u001b[0m             headers\u001b[39m=\u001b[39;49mrequest\u001b[39m.\u001b[39;49mheaders,\n\u001b[1;32m    494\u001b[0m             redirect\u001b[39m=\u001b[39;49m\u001b[39mFalse\u001b[39;49;00m,\n\u001b[1;32m    495\u001b[0m             assert_same_host\u001b[39m=\u001b[39;49m\u001b[39mFalse\u001b[39;49;00m,\n\u001b[1;32m    496\u001b[0m             preload_content\u001b[39m=\u001b[39;49m\u001b[39mFalse\u001b[39;49;00m,\n\u001b[1;32m    497\u001b[0m             decode_content\u001b[39m=\u001b[39;49m\u001b[39mFalse\u001b[39;49;00m,\n\u001b[1;32m    498\u001b[0m             retries\u001b[39m=\u001b[39;49m\u001b[39mself\u001b[39;49m\u001b[39m.\u001b[39;49mmax_retries,\n\u001b[1;32m    499\u001b[0m             timeout\u001b[39m=\u001b[39;49mtimeout,\n\u001b[1;32m    500\u001b[0m         )\n\u001b[1;32m    502\u001b[0m     \u001b[39m# Send the request.\u001b[39;00m\n\u001b[1;32m    503\u001b[0m     \u001b[39melse\u001b[39;00m:\n\u001b[1;32m    504\u001b[0m         \u001b[39mif\u001b[39;00m \u001b[39mhasattr\u001b[39m(conn, \u001b[39m\"\u001b[39m\u001b[39mproxy_pool\u001b[39m\u001b[39m\"\u001b[39m):\n",
      "File \u001b[0;32m/workspace/QA-Bot/env/lib/python3.8/site-packages/urllib3/connectionpool.py:703\u001b[0m, in \u001b[0;36mHTTPConnectionPool.urlopen\u001b[0;34m(self, method, url, body, headers, retries, redirect, assert_same_host, timeout, pool_timeout, release_conn, chunked, body_pos, **response_kw)\u001b[0m\n\u001b[1;32m    700\u001b[0m     \u001b[39mself\u001b[39m\u001b[39m.\u001b[39m_prepare_proxy(conn)\n\u001b[1;32m    702\u001b[0m \u001b[39m# Make the request on the httplib connection object.\u001b[39;00m\n\u001b[0;32m--> 703\u001b[0m httplib_response \u001b[39m=\u001b[39m \u001b[39mself\u001b[39;49m\u001b[39m.\u001b[39;49m_make_request(\n\u001b[1;32m    704\u001b[0m     conn,\n\u001b[1;32m    705\u001b[0m     method,\n\u001b[1;32m    706\u001b[0m     url,\n\u001b[1;32m    707\u001b[0m     timeout\u001b[39m=\u001b[39;49mtimeout_obj,\n\u001b[1;32m    708\u001b[0m     body\u001b[39m=\u001b[39;49mbody,\n\u001b[1;32m    709\u001b[0m     headers\u001b[39m=\u001b[39;49mheaders,\n\u001b[1;32m    710\u001b[0m     chunked\u001b[39m=\u001b[39;49mchunked,\n\u001b[1;32m    711\u001b[0m )\n\u001b[1;32m    713\u001b[0m \u001b[39m# If we're going to release the connection in ``finally:``, then\u001b[39;00m\n\u001b[1;32m    714\u001b[0m \u001b[39m# the response doesn't need to know about the connection. Otherwise\u001b[39;00m\n\u001b[1;32m    715\u001b[0m \u001b[39m# it will also try to release it and we'll have a double-release\u001b[39;00m\n\u001b[1;32m    716\u001b[0m \u001b[39m# mess.\u001b[39;00m\n\u001b[1;32m    717\u001b[0m response_conn \u001b[39m=\u001b[39m conn \u001b[39mif\u001b[39;00m \u001b[39mnot\u001b[39;00m release_conn \u001b[39melse\u001b[39;00m \u001b[39mNone\u001b[39;00m\n",
      "File \u001b[0;32m/workspace/QA-Bot/env/lib/python3.8/site-packages/urllib3/connectionpool.py:449\u001b[0m, in \u001b[0;36mHTTPConnectionPool._make_request\u001b[0;34m(self, conn, method, url, timeout, chunked, **httplib_request_kw)\u001b[0m\n\u001b[1;32m    444\u001b[0m             httplib_response \u001b[39m=\u001b[39m conn\u001b[39m.\u001b[39mgetresponse()\n\u001b[1;32m    445\u001b[0m         \u001b[39mexcept\u001b[39;00m \u001b[39mBaseException\u001b[39;00m \u001b[39mas\u001b[39;00m e:\n\u001b[1;32m    446\u001b[0m             \u001b[39m# Remove the TypeError from the exception chain in\u001b[39;00m\n\u001b[1;32m    447\u001b[0m             \u001b[39m# Python 3 (including for exceptions like SystemExit).\u001b[39;00m\n\u001b[1;32m    448\u001b[0m             \u001b[39m# Otherwise it looks like a bug in the code.\u001b[39;00m\n\u001b[0;32m--> 449\u001b[0m             six\u001b[39m.\u001b[39;49mraise_from(e, \u001b[39mNone\u001b[39;49;00m)\n\u001b[1;32m    450\u001b[0m \u001b[39mexcept\u001b[39;00m (SocketTimeout, BaseSSLError, SocketError) \u001b[39mas\u001b[39;00m e:\n\u001b[1;32m    451\u001b[0m     \u001b[39mself\u001b[39m\u001b[39m.\u001b[39m_raise_timeout(err\u001b[39m=\u001b[39me, url\u001b[39m=\u001b[39murl, timeout_value\u001b[39m=\u001b[39mread_timeout)\n",
      "File \u001b[0;32m<string>:3\u001b[0m, in \u001b[0;36mraise_from\u001b[0;34m(value, from_value)\u001b[0m\n",
      "File \u001b[0;32m/workspace/QA-Bot/env/lib/python3.8/site-packages/urllib3/connectionpool.py:444\u001b[0m, in \u001b[0;36mHTTPConnectionPool._make_request\u001b[0;34m(self, conn, method, url, timeout, chunked, **httplib_request_kw)\u001b[0m\n\u001b[1;32m    441\u001b[0m \u001b[39mexcept\u001b[39;00m \u001b[39mTypeError\u001b[39;00m:\n\u001b[1;32m    442\u001b[0m     \u001b[39m# Python 3\u001b[39;00m\n\u001b[1;32m    443\u001b[0m     \u001b[39mtry\u001b[39;00m:\n\u001b[0;32m--> 444\u001b[0m         httplib_response \u001b[39m=\u001b[39m conn\u001b[39m.\u001b[39;49mgetresponse()\n\u001b[1;32m    445\u001b[0m     \u001b[39mexcept\u001b[39;00m \u001b[39mBaseException\u001b[39;00m \u001b[39mas\u001b[39;00m e:\n\u001b[1;32m    446\u001b[0m         \u001b[39m# Remove the TypeError from the exception chain in\u001b[39;00m\n\u001b[1;32m    447\u001b[0m         \u001b[39m# Python 3 (including for exceptions like SystemExit).\u001b[39;00m\n\u001b[1;32m    448\u001b[0m         \u001b[39m# Otherwise it looks like a bug in the code.\u001b[39;00m\n\u001b[1;32m    449\u001b[0m         six\u001b[39m.\u001b[39mraise_from(e, \u001b[39mNone\u001b[39;00m)\n",
      "File \u001b[0;32m~/.pyenv/versions/3.8.16/lib/python3.8/http/client.py:1348\u001b[0m, in \u001b[0;36mHTTPConnection.getresponse\u001b[0;34m(self)\u001b[0m\n\u001b[1;32m   1346\u001b[0m \u001b[39mtry\u001b[39;00m:\n\u001b[1;32m   1347\u001b[0m     \u001b[39mtry\u001b[39;00m:\n\u001b[0;32m-> 1348\u001b[0m         response\u001b[39m.\u001b[39;49mbegin()\n\u001b[1;32m   1349\u001b[0m     \u001b[39mexcept\u001b[39;00m \u001b[39mConnectionError\u001b[39;00m:\n\u001b[1;32m   1350\u001b[0m         \u001b[39mself\u001b[39m\u001b[39m.\u001b[39mclose()\n",
      "File \u001b[0;32m~/.pyenv/versions/3.8.16/lib/python3.8/http/client.py:316\u001b[0m, in \u001b[0;36mHTTPResponse.begin\u001b[0;34m(self)\u001b[0m\n\u001b[1;32m    314\u001b[0m \u001b[39m# read until we get a non-100 response\u001b[39;00m\n\u001b[1;32m    315\u001b[0m \u001b[39mwhile\u001b[39;00m \u001b[39mTrue\u001b[39;00m:\n\u001b[0;32m--> 316\u001b[0m     version, status, reason \u001b[39m=\u001b[39m \u001b[39mself\u001b[39;49m\u001b[39m.\u001b[39;49m_read_status()\n\u001b[1;32m    317\u001b[0m     \u001b[39mif\u001b[39;00m status \u001b[39m!=\u001b[39m CONTINUE:\n\u001b[1;32m    318\u001b[0m         \u001b[39mbreak\u001b[39;00m\n",
      "File \u001b[0;32m~/.pyenv/versions/3.8.16/lib/python3.8/http/client.py:277\u001b[0m, in \u001b[0;36mHTTPResponse._read_status\u001b[0;34m(self)\u001b[0m\n\u001b[1;32m    276\u001b[0m \u001b[39mdef\u001b[39;00m \u001b[39m_read_status\u001b[39m(\u001b[39mself\u001b[39m):\n\u001b[0;32m--> 277\u001b[0m     line \u001b[39m=\u001b[39m \u001b[39mstr\u001b[39m(\u001b[39mself\u001b[39;49m\u001b[39m.\u001b[39;49mfp\u001b[39m.\u001b[39;49mreadline(_MAXLINE \u001b[39m+\u001b[39;49m \u001b[39m1\u001b[39;49m), \u001b[39m\"\u001b[39m\u001b[39miso-8859-1\u001b[39m\u001b[39m\"\u001b[39m)\n\u001b[1;32m    278\u001b[0m     \u001b[39mif\u001b[39;00m \u001b[39mlen\u001b[39m(line) \u001b[39m>\u001b[39m _MAXLINE:\n\u001b[1;32m    279\u001b[0m         \u001b[39mraise\u001b[39;00m LineTooLong(\u001b[39m\"\u001b[39m\u001b[39mstatus line\u001b[39m\u001b[39m\"\u001b[39m)\n",
      "File \u001b[0;32m~/.pyenv/versions/3.8.16/lib/python3.8/socket.py:669\u001b[0m, in \u001b[0;36mSocketIO.readinto\u001b[0;34m(self, b)\u001b[0m\n\u001b[1;32m    667\u001b[0m \u001b[39mwhile\u001b[39;00m \u001b[39mTrue\u001b[39;00m:\n\u001b[1;32m    668\u001b[0m     \u001b[39mtry\u001b[39;00m:\n\u001b[0;32m--> 669\u001b[0m         \u001b[39mreturn\u001b[39;00m \u001b[39mself\u001b[39;49m\u001b[39m.\u001b[39;49m_sock\u001b[39m.\u001b[39;49mrecv_into(b)\n\u001b[1;32m    670\u001b[0m     \u001b[39mexcept\u001b[39;00m timeout:\n\u001b[1;32m    671\u001b[0m         \u001b[39mself\u001b[39m\u001b[39m.\u001b[39m_timeout_occurred \u001b[39m=\u001b[39m \u001b[39mTrue\u001b[39;00m\n",
      "File \u001b[0;32m~/.pyenv/versions/3.8.16/lib/python3.8/ssl.py:1241\u001b[0m, in \u001b[0;36mSSLSocket.recv_into\u001b[0;34m(self, buffer, nbytes, flags)\u001b[0m\n\u001b[1;32m   1237\u001b[0m     \u001b[39mif\u001b[39;00m flags \u001b[39m!=\u001b[39m \u001b[39m0\u001b[39m:\n\u001b[1;32m   1238\u001b[0m         \u001b[39mraise\u001b[39;00m \u001b[39mValueError\u001b[39;00m(\n\u001b[1;32m   1239\u001b[0m           \u001b[39m\"\u001b[39m\u001b[39mnon-zero flags not allowed in calls to recv_into() on \u001b[39m\u001b[39m%s\u001b[39;00m\u001b[39m\"\u001b[39m \u001b[39m%\u001b[39m\n\u001b[1;32m   1240\u001b[0m           \u001b[39mself\u001b[39m\u001b[39m.\u001b[39m\u001b[39m__class__\u001b[39m)\n\u001b[0;32m-> 1241\u001b[0m     \u001b[39mreturn\u001b[39;00m \u001b[39mself\u001b[39;49m\u001b[39m.\u001b[39;49mread(nbytes, buffer)\n\u001b[1;32m   1242\u001b[0m \u001b[39melse\u001b[39;00m:\n\u001b[1;32m   1243\u001b[0m     \u001b[39mreturn\u001b[39;00m \u001b[39msuper\u001b[39m()\u001b[39m.\u001b[39mrecv_into(buffer, nbytes, flags)\n",
      "File \u001b[0;32m~/.pyenv/versions/3.8.16/lib/python3.8/ssl.py:1099\u001b[0m, in \u001b[0;36mSSLSocket.read\u001b[0;34m(self, len, buffer)\u001b[0m\n\u001b[1;32m   1097\u001b[0m \u001b[39mtry\u001b[39;00m:\n\u001b[1;32m   1098\u001b[0m     \u001b[39mif\u001b[39;00m buffer \u001b[39mis\u001b[39;00m \u001b[39mnot\u001b[39;00m \u001b[39mNone\u001b[39;00m:\n\u001b[0;32m-> 1099\u001b[0m         \u001b[39mreturn\u001b[39;00m \u001b[39mself\u001b[39;49m\u001b[39m.\u001b[39;49m_sslobj\u001b[39m.\u001b[39;49mread(\u001b[39mlen\u001b[39;49m, buffer)\n\u001b[1;32m   1100\u001b[0m     \u001b[39melse\u001b[39;00m:\n\u001b[1;32m   1101\u001b[0m         \u001b[39mreturn\u001b[39;00m \u001b[39mself\u001b[39m\u001b[39m.\u001b[39m_sslobj\u001b[39m.\u001b[39mread(\u001b[39mlen\u001b[39m)\n",
      "\u001b[0;31mKeyboardInterrupt\u001b[0m: "
     ]
    }
   ],
   "source": [
    "import openai\n",
    "import json\n",
    "\n",
    "# Load the JSON data\n",
    "with open('data/context.json') as f:\n",
    "    data = json.load(f)\n",
    "\n",
    "# Set up the OpenAI API key\n",
    "openai.api_key = os.getenv(\"OPEN_AI_KEY\")\n",
    "\n",
    "# Set the context for the OpenAI API\n",
    "context = f\"{data['description']} {data['services']}\"\n",
    "\n",
    "# Define a function to ask a question and get an answer from the OpenAI API\n",
    "def ask_question(question):\n",
    "    prompt = f\"C: {context} Q: {question}\\nA:\"\n",
    "    response = openai.Completion.create(\n",
    "        engine=\"davinci\",\n",
    "        prompt=prompt,\n",
    "        temperature=0.5,\n",
    "        max_tokens=1024,\n",
    "        n=1,\n",
    "        stop=None\n",
    "    )\n",
    "    answer = response.choices[0].text.strip()\n",
    "    return answer\n",
    "\n",
    "# Ask a series of questions and print the answers\n",
    "questions = [\"What services does Dataswira Inc. offer?\", \n",
    "             \"When was Dataswira Inc. founded?\", \n",
    "             \"Who are the key people at Dataswira Inc.?\"]\n",
    "for question in questions:\n",
    "    answer = ask_question(question)\n",
    "    print(f\"{question}\\n{answer}\\n\")\n"
   ]
  },
  {
   "cell_type": "code",
   "execution_count": null,
   "metadata": {},
   "outputs": [],
   "source": [
    "# TAking input from user"
   ]
  },
  {
   "cell_type": "code",
   "execution_count": 11,
   "metadata": {},
   "outputs": [
    {
     "name": "stdout",
     "output_type": "stream",
     "text": [
      "where are you located?\n",
      "[\"Dataswira is a software development company based in Western Kenya. The company provides business intelligence (BI), data analytics, and software services to clients in various industries. Dataswira was founded in 2015 by a team of experienced professionals in the software industry. The company's key people include John Doe as the CEO, Jane Doe as the COO, and Michael Smith as the CTO. Dataswira has a team of 50-100 employees and is committed to delivering quality software solutions to its clients. Visit their website at www.dataswira.com or follow them on Twitter and LinkedIn for updates and news. ['BI', 'Data Analytics', 'Software Services']\"]\n",
      "\n",
      "Q: where are you located? A: [\"Dataswira is a software development company based in Western Kenya. The company provides business intelligence (BI), data analytics, and software services to clients in various industries. Dataswira was founded in 2015 by a team of experienced professionals in the software industry. The company's key people include John Doe as the CEO, Jane Doe as the COO, and Michael Smith as the CTO. Dataswira has a team of 50-100 employees and is committed to delivering quality software solutions to its clients. Visit their website at www.dataswira.com or follow them on Twitter and LinkedIn for updates and news. ['BI', 'Data Analytics', 'Software Services']\"]\n",
      "\n",
      "Q: where are you located? A: [\"Dataswira is a software development company based in Western Kenya. The company provides business intelligence (BI), data analytics, and software services to clients in various industries. Dataswira was founded in 2015 by a team of experienced professionals in the software industry. The company's key people include John Doe as the CEO, Jane Doe as the COO, and Michael Smith as the CTO. Dataswira has a team of 50-100 employees and is committed to delivering quality software solutions to its clients. Visit their website at www.dataswira.com or follow them on Twitter and LinkedIn for updates and news. ['BI', 'Data Analytics', 'Software Services']\"]\n",
      "\n",
      "Q: where are you located? A: [\"Dataswira is a software development company based in Western Kenya. The company provides business intelligence (BI), data analytics, and software services to clients in various industries. Dataswira was founded in 2015 by a team of experienced professionals in the software industry. The company's key people include John Doe as the CEO, Jane Doe as the COO, and Michael Smith as the CTO. Dataswira has a team of 50-100 employees and is committed to delivering quality software solutions to its clients. Visit their website at www.dataswira.com or follow them on Twitter and LinkedIn for updates and news. ['BI', 'Data Analytics', 'Software Services']\"]\n",
      "\n",
      "Q: where are you located? A: [\"Dataswira is a software development company based in Western Kenya. The company provides business intelligence (BI), data analytics, and software services to clients in various industries. Dataswira was founded in 2015 by a team of experienced professionals in the software industry. The company's key people include John Doe as the CEO, Jane Doe as the COO, and Michael Smith as the CTO. Dataswira has a team of 50-100 employees and is committed to delivering quality software solutions to its clients. Visit their website at www.dataswira.com or follow them on Twitter and LinkedIn for updates and news. ['BI', 'Data Analytics', 'Software Services']\"]\n",
      "\n",
      "Q: where are you located? A: [\"Dataswira is a software development company based in Western Kenya. The company provides business intelligence (BI), data analytics, and software services to clients in various industries. Dataswira was founded in 2015 by a team of experienced professionals in the software industry. The company's key people include John Doe as the CEO, Jane Doe as the COO, and Michael Smith as the CTO. Dataswira has a team of 50-100 employees and is committed to delivering quality software solutions to its clients. Visit their website at www.dataswira.com or follow them on Twitter and LinkedIn for updates and news. ['BI', 'Data Analytics', 'Software Services']\"]\n",
      "\n",
      "Q: where are you located? A: [\"Dataswira is a software development company based in Western Kenya. The company provides business intelligence (BI), data analytics, and software services to clients in various industries. Dataswira was founded in 2015 by a team of experienced professionals in the software industry. The company's key people include John Doe as the CEO, Jane Doe as the COO, and Michael Smith as the CTO. Dataswira has a team of 50-100 employees and is committed to delivering quality software solutions to its clients. Visit their website at www.dat\n",
      "\n",
      "what would are your services\n",
      "[\"Dataswira Inc. is a software development company based in Western Kenya. The company provides business intelligence (BI), data analytics, and software services to clients in various industries. Dataswira Inc. was founded in 2015 by a team of experienced professionals in the software industry. The company's key people include John Doe as the CEO, Jane Doe as the COO, and Michael Smith as the CTO. Dataswira Inc. has a team of 50-100 employees and is committed to delivering quality software solutions to its clients. Visit their website at www.dataswira.com or follow them on Twitter and LinkedIn for updates and news. ['Business Intelligence', 'Data Analytics', 'Software Services']\"] Q: what do you offer\n",
      "A: [\"Dataswira Inc. is a software development company based in Western Kenya. The company provides business intelligence (BI), data analytics, and software services to clients in various industries. Dataswira Inc. was founded in 2015 by a team of experienced professionals in the software industry. The company's key people include John Doe as the CEO, Jane Doe as the COO, and Michael Smith as the CTO. Dataswira Inc. has a team of 50-100 employees and is committed to delivering quality software solutions to its clients. Visit their website at www.dataswira.com or follow them on Twitter and LinkedIn for updates and news. ['Business Intelligence', 'Data Analytics', 'Software Services']\"] Q: what do you do\n",
      "A: [\"Dataswira Inc. is a software development company based in Western Kenya. The company provides business intelligence (BI), data analytics, and software services to clients in various industries. Dataswira Inc. was founded in 2015 by a team of experienced professionals in the software industry. The company's key people include John Doe as the CEO, Jane Doe as the COO, and Michael Smith as the CTO. Dataswira Inc. has a team of 50-100 employees and is committed to delivering quality software solutions to its clients. Visit their website at www.dataswira.com or follow them on Twitter and LinkedIn for updates and news. ['Business Intelligence', 'Data Analytics', 'Software Services']\"] Q: what are your services\n",
      "A: [\"Dataswira Inc. is a software development company based in Western Kenya. The company provides business intelligence (BI), data analytics, and software services to clients in various industries. Dataswira Inc. was founded in 2015 by a team of experienced professionals in the software industry. The company's key people include John Doe as the CEO, Jane Doe as the COO, and Michael Smith as the CTO. Dataswira Inc. has a team of 50-100 employees and is committed to delivering quality software solutions to its clients. Visit their website at www.dataswira.com or follow them on Twitter and LinkedIn for updates and news. ['Business Intelligence', 'Data Analytics', 'Software Services']\"] Q: what is your service\n",
      "A: [\"Dataswira Inc. is a software development company based in Western Kenya. The company provides business intelligence (BI), data analytics, and software services to clients in various industries. Dataswira Inc. was founded in 2015 by a team of experienced professionals in the software industry. The company's key people include John Doe as the CEO, Jane Doe as the COO, and Michael Smith as the CTO. Dataswira Inc. has a team of 50-100 employees and is committed to delivering quality software solutions to its clients. Visit their website at www.dataswira.com or follow them on Twitter and LinkedIn for updates and news. ['Business Intelligence', 'Data Analytics', 'Software Services']\"] Q: what is your service\n",
      "A: [\"Dataswira Inc. is a software development company based in Western Kenya. The company provides business intelligence (BI), data analytics, and software services to clients in various industries. Dataswira Inc. was founded in 2015 by a team of experienced professionals in the software industry. The company's key people include John Doe as the CEO, Jane Doe as the COO, and Michael Smith as the CTO. Dataswira Inc. has a team of 50-100 employees and is committed to delivering quality software solutions to its clients. Visit their website at www.dataswira.com or follow them on Twitter and LinkedIn for updates and news. ['Business Intelligence', 'Data Analytics', 'Software Services']\"] Q: what are your services\n",
      "A: [\"Dataswira Inc. is a software development company based in Western Kenya. The company provides business intelligence (BI), data analytics, and software services to clients in various industries. Dataswira Inc. was founded in 2015 by a team of experienced professionals in the software industry. The company's key people include John Doe as the CEO, Jane Doe as the COO, and Michael Smith as the\n",
      "\n"
     ]
    }
   ],
   "source": [
    "import openai\n",
    "import json\n",
    "\n",
    "# Load the JSON data\n",
    "with open('data/context.json') as f:\n",
    "    data = json.load(f)\n",
    "\n",
    "# Set up the OpenAI API key\n",
    "openai.api_key = os.getenv(\"OPEN_AI_KEY\")\n",
    "\n",
    "# Set the context for the OpenAI API\n",
    "context = f\"{data['description']} {data['services']}\"\n",
    "\n",
    "# Define a function to ask a question and get an answer from the OpenAI API\n",
    "def ask_question(question, context):\n",
    "    prompt = f\" {context} Q: {question}\\nA:\"\n",
    "    response = openai.Completion.create(\n",
    "        engine=\"davinci\",\n",
    "        prompt=prompt,\n",
    "        temperature=0.5,\n",
    "        max_tokens=1024,\n",
    "        n=1,\n",
    "        stop=None,\n",
    "    )\n",
    "    answer = response.choices[0].text.strip()\n",
    "    return answer\n",
    "\n",
    "# Allow the user to ask custom questions\n",
    "while True:\n",
    "    question = input(\"What would you like to ask about Dataswira Inc.? (Press Enter to quit) \")\n",
    "    if not question:\n",
    "        break\n",
    "    answer = ask_question(question, [context])\n",
    "    print(f\"{question}\\n{answer}\\n\")\n"
   ]
  },
  {
   "cell_type": "code",
   "execution_count": null,
   "metadata": {},
   "outputs": [],
   "source": []
  }
 ],
 "metadata": {
  "kernelspec": {
   "display_name": "env",
   "language": "python",
   "name": "python3"
  },
  "language_info": {
   "codemirror_mode": {
    "name": "ipython",
    "version": 3
   },
   "file_extension": ".py",
   "mimetype": "text/x-python",
   "name": "python",
   "nbconvert_exporter": "python",
   "pygments_lexer": "ipython3",
   "version": "3.8.16"
  },
  "orig_nbformat": 4
 },
 "nbformat": 4,
 "nbformat_minor": 2
}
